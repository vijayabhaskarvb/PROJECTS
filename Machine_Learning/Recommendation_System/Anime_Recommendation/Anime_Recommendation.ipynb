version https://git-lfs.github.com/spec/v1
oid sha256:5c943eee92b3e268c833df1062bb2142cf506cecd3838f50ab07ff1741e3f9e2
size 44918
