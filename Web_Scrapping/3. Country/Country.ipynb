{
 "cells": [
  {
   "cell_type": "code",
   "execution_count": 1,
   "id": "765de2e3",
   "metadata": {},
   "outputs": [],
   "source": [
    "import requests\n",
    "from bs4 import BeautifulSoup\n",
    "import openpyxl"
   ]
  },
  {
   "cell_type": "code",
   "execution_count": 2,
   "id": "86d01f82",
   "metadata": {},
   "outputs": [],
   "source": [
    "# Create an Excel workbook and sheet\n",
    "wb = openpyxl.Workbook()\n",
    "sheet = wb.active\n",
    "sheet.title = \"Countries\"\n",
    "sheet.append(['Country', 'Capital', 'Population', 'Area (km²)'])\n",
    "\n",
    "# URL of the page to scrape\n",
    "url = \"https://scrapethissite.com/pages/simple/\"\n",
    "\n",
    "# Send a GET request to fetch the page content\n",
    "response = requests.get(url)\n",
    "soup = BeautifulSoup(response.content, 'html.parser')\n",
    "\n",
    "# Find all country divs\n",
    "country_divs = soup.find_all('div', class_='country')\n",
    "\n",
    "# Loop through each country div and extract data\n",
    "for country in country_divs:\n",
    "    name = country.find('h3', class_='country-name').text.strip()\n",
    "    capital = country.find('span', class_='country-capital').text.strip()\n",
    "    population = country.find('span', class_='country-population').text.strip()\n",
    "    area = country.find('span', class_='country-area').text.strip()\n",
    "\n",
    "    # Append the data to the Excel sheet\n",
    "    sheet.append([name, capital, population, area])"
   ]
  },
  {
   "cell_type": "code",
   "execution_count": 3,
   "id": "38377615",
   "metadata": {},
   "outputs": [
    {
     "name": "stdout",
     "output_type": "stream",
     "text": [
      "Data has been written to 'Countries_of_the_World.xlsx'\n"
     ]
    }
   ],
   "source": [
    "# Save the Excel file\n",
    "wb.save('Countries_of_the_World.xlsx')\n",
    "print(\"Data has been written to 'Countries_of_the_World.xlsx'\")"
   ]
  },
  {
   "cell_type": "code",
   "execution_count": null,
   "id": "85982773",
   "metadata": {},
   "outputs": [],
   "source": []
  }
 ],
 "metadata": {
  "kernelspec": {
   "display_name": "Python 3",
   "language": "python",
   "name": "python3"
  },
  "language_info": {
   "codemirror_mode": {
    "name": "ipython",
    "version": 3
   },
   "file_extension": ".py",
   "mimetype": "text/x-python",
   "name": "python",
   "nbconvert_exporter": "python",
   "pygments_lexer": "ipython3",
   "version": "3.9.6"
  }
 },
 "nbformat": 4,
 "nbformat_minor": 5
}
