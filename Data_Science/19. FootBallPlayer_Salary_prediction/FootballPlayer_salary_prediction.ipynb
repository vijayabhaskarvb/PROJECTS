version https://git-lfs.github.com/spec/v1
oid sha256:41cc3bc26ec07dd7ccd1e87af7f852240c155789d9f016247f6ca73fd6707369
size 361022
